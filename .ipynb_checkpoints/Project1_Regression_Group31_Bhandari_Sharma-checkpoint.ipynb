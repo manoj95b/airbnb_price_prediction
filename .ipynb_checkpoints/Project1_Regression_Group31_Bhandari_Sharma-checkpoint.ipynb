{
 "cells": [
  {
   "cell_type": "markdown",
   "metadata": {},
   "source": [
    "# Group 31: Applied Machine Learning - Project 1"
   ]
  },
  {
   "cell_type": "markdown",
   "metadata": {},
   "source": [
    "> Manoj Bhandari\n",
    "\n",
    "> Harsh Sharma"
   ]
  },
  {
   "cell_type": "markdown",
   "metadata": {},
   "source": [
    "## Project: Regression Dataset"
   ]
  },
  {
   "cell_type": "markdown",
   "metadata": {},
   "source": [
    "In this project we take data of Airbnb listings in the US and try to predict the price of stay in that listing. \n",
    "\n",
    "The source of the dataset: https://www.kaggle.com/stevezhenghp/airbnb-price-prediction#train.csv \n",
    "\n",
    "The data includes 74411 listings and 29 columns - including log_price, what we are trying to predict. \n",
    "\n",
    "There was no information about this data so we assume that since all the listings are in the us, the price (or log_price) that we are trying to predict is the general pricing per 1 night stay of the listing, in USD, not for specific dates/seasons and not including additional fees, i.e. cleaning and airbnb service fees.\n",
    "\n",
    "The data is for 6 cities across the US: NYC, LA, San Francisco, Washington DC, Boston and Chicago. But in this notebook, we use only the listings in Boston city."
   ]
  },
  {
   "cell_type": "code",
   "execution_count": 1,
   "metadata": {},
   "outputs": [],
   "source": [
    "import warnings\n",
    "warnings.filterwarnings('ignore')"
   ]
  },
  {
   "cell_type": "markdown",
   "metadata": {},
   "source": [
    "__Import required packages__"
   ]
  },
  {
   "cell_type": "code",
   "execution_count": 2,
   "metadata": {},
   "outputs": [],
   "source": [
    "# Import required libraries\n",
    "\n",
    "import pandas as pd\n",
    "import numpy as np\n",
    "import matplotlib.pyplot as plt\n",
    "\n",
    "pd.options.display.max_rows = 100\n",
    "pd.options.display.max_columns = 150"
   ]
  },
  {
   "cell_type": "code",
   "execution_count": 42,
   "metadata": {},
   "outputs": [],
   "source": [
    "import pickle"
   ]
  },
  {
   "cell_type": "markdown",
   "metadata": {},
   "source": [
    "__Load the airbnb dataset__"
   ]
  },
  {
   "cell_type": "code",
   "execution_count": 3,
   "metadata": {},
   "outputs": [],
   "source": [
    "raw_data = pd.read_csv(\"airbnb.csv\")"
   ]
  },
  {
   "cell_type": "markdown",
   "metadata": {},
   "source": [
    "__Subset the dataset to contain only the instances of Boston city__"
   ]
  },
  {
   "cell_type": "code",
   "execution_count": 4,
   "metadata": {},
   "outputs": [],
   "source": [
    "# Subset the data to Boston city\n",
    "boston_data = raw_data[raw_data['city'] == 'Boston']\n",
    "boston_data.reset_index(inplace=True, drop=True)"
   ]
  },
  {
   "cell_type": "markdown",
   "metadata": {},
   "source": [
    "## Data Pre-processing"
   ]
  },
  {
   "cell_type": "markdown",
   "metadata": {},
   "source": [
    "__Inspect the dataset to understand the data and recognize any data inconsistencies__"
   ]
  },
  {
   "cell_type": "code",
   "execution_count": 5,
   "metadata": {},
   "outputs": [
    {
     "data": {
      "text/html": [
       "<div>\n",
       "<style scoped>\n",
       "    .dataframe tbody tr th:only-of-type {\n",
       "        vertical-align: middle;\n",
       "    }\n",
       "\n",
       "    .dataframe tbody tr th {\n",
       "        vertical-align: top;\n",
       "    }\n",
       "\n",
       "    .dataframe thead th {\n",
       "        text-align: right;\n",
       "    }\n",
       "</style>\n",
       "<table border=\"1\" class=\"dataframe\">\n",
       "  <thead>\n",
       "    <tr style=\"text-align: right;\">\n",
       "      <th></th>\n",
       "      <th>id</th>\n",
       "      <th>log_price</th>\n",
       "      <th>property_type</th>\n",
       "      <th>room_type</th>\n",
       "      <th>amenities</th>\n",
       "      <th>accommodates</th>\n",
       "      <th>bathrooms</th>\n",
       "      <th>bed_type</th>\n",
       "      <th>cancellation_policy</th>\n",
       "      <th>cleaning_fee</th>\n",
       "      <th>city</th>\n",
       "      <th>description</th>\n",
       "      <th>first_review</th>\n",
       "      <th>host_has_profile_pic</th>\n",
       "      <th>host_identity_verified</th>\n",
       "      <th>host_response_rate</th>\n",
       "      <th>host_since</th>\n",
       "      <th>instant_bookable</th>\n",
       "      <th>last_review</th>\n",
       "      <th>latitude</th>\n",
       "      <th>longitude</th>\n",
       "      <th>name</th>\n",
       "      <th>neighbourhood</th>\n",
       "      <th>number_of_reviews</th>\n",
       "      <th>review_scores_rating</th>\n",
       "      <th>thumbnail_url</th>\n",
       "      <th>zipcode</th>\n",
       "      <th>bedrooms</th>\n",
       "      <th>beds</th>\n",
       "    </tr>\n",
       "  </thead>\n",
       "  <tbody>\n",
       "    <tr>\n",
       "      <td>0</td>\n",
       "      <td>14648556</td>\n",
       "      <td>4.595120</td>\n",
       "      <td>Townhouse</td>\n",
       "      <td>Private room</td>\n",
       "      <td>{Internet,\"Wireless Internet\",\"Air conditionin...</td>\n",
       "      <td>2</td>\n",
       "      <td>2.0</td>\n",
       "      <td>Real Bed</td>\n",
       "      <td>strict</td>\n",
       "      <td>True</td>\n",
       "      <td>Boston</td>\n",
       "      <td>This is a nice duplex in a good location.Recen...</td>\n",
       "      <td>2016-07-16</td>\n",
       "      <td>t</td>\n",
       "      <td>t</td>\n",
       "      <td>100%</td>\n",
       "      <td>2014-07-27</td>\n",
       "      <td>f</td>\n",
       "      <td>2017-02-07</td>\n",
       "      <td>42.339194</td>\n",
       "      <td>-71.049672</td>\n",
       "      <td>Comfy room (C) near T, convention center, down...</td>\n",
       "      <td>South Boston</td>\n",
       "      <td>12</td>\n",
       "      <td>88.0</td>\n",
       "      <td>https://a0.muscache.com/im/pictures/176088bb-3...</td>\n",
       "      <td>02127</td>\n",
       "      <td>1.0</td>\n",
       "      <td>1.0</td>\n",
       "    </tr>\n",
       "    <tr>\n",
       "      <td>1</td>\n",
       "      <td>4680055</td>\n",
       "      <td>4.682131</td>\n",
       "      <td>Condominium</td>\n",
       "      <td>Private room</td>\n",
       "      <td>{TV,Internet,\"Wireless Internet\",\"Air conditio...</td>\n",
       "      <td>2</td>\n",
       "      <td>1.0</td>\n",
       "      <td>Real Bed</td>\n",
       "      <td>strict</td>\n",
       "      <td>True</td>\n",
       "      <td>Boston</td>\n",
       "      <td>Tourists/Conference-goers great choice! Privat...</td>\n",
       "      <td>2016-03-20</td>\n",
       "      <td>t</td>\n",
       "      <td>t</td>\n",
       "      <td>100%</td>\n",
       "      <td>2013-06-16</td>\n",
       "      <td>t</td>\n",
       "      <td>2017-09-17</td>\n",
       "      <td>42.330628</td>\n",
       "      <td>-71.053148</td>\n",
       "      <td>Private Bedroom Close To Downtown/Subway Red line</td>\n",
       "      <td>South Boston</td>\n",
       "      <td>40</td>\n",
       "      <td>96.0</td>\n",
       "      <td>https://a0.muscache.com/im/pictures/aad0eaa7-a...</td>\n",
       "      <td>02127</td>\n",
       "      <td>1.0</td>\n",
       "      <td>1.0</td>\n",
       "    </tr>\n",
       "    <tr>\n",
       "      <td>2</td>\n",
       "      <td>4274462</td>\n",
       "      <td>4.828314</td>\n",
       "      <td>Apartment</td>\n",
       "      <td>Entire home/apt</td>\n",
       "      <td>{TV,\"Wireless Internet\",\"Air conditioning\",Kit...</td>\n",
       "      <td>6</td>\n",
       "      <td>1.0</td>\n",
       "      <td>Real Bed</td>\n",
       "      <td>strict</td>\n",
       "      <td>True</td>\n",
       "      <td>Boston</td>\n",
       "      <td>An Entire 2 bedroom, 600sqft, apartment w/ 4 t...</td>\n",
       "      <td>2017-09-14</td>\n",
       "      <td>t</td>\n",
       "      <td>t</td>\n",
       "      <td>100%</td>\n",
       "      <td>2015-01-25</td>\n",
       "      <td>f</td>\n",
       "      <td>2017-10-02</td>\n",
       "      <td>42.336007</td>\n",
       "      <td>-71.052918</td>\n",
       "      <td>**NEW*Downtown/Convention/Subway/Beach C130</td>\n",
       "      <td>South Boston</td>\n",
       "      <td>5</td>\n",
       "      <td>100.0</td>\n",
       "      <td>https://a0.muscache.com/im/pictures/3d35ea0b-e...</td>\n",
       "      <td>02127</td>\n",
       "      <td>2.0</td>\n",
       "      <td>4.0</td>\n",
       "    </tr>\n",
       "    <tr>\n",
       "      <td>3</td>\n",
       "      <td>2278299</td>\n",
       "      <td>4.094345</td>\n",
       "      <td>House</td>\n",
       "      <td>Private room</td>\n",
       "      <td>{TV,Internet,\"Wireless Internet\",Kitchen,\"Free...</td>\n",
       "      <td>2</td>\n",
       "      <td>1.0</td>\n",
       "      <td>Real Bed</td>\n",
       "      <td>flexible</td>\n",
       "      <td>False</td>\n",
       "      <td>Boston</td>\n",
       "      <td>This is a beautiful space in a gorgeous, newly...</td>\n",
       "      <td>NaN</td>\n",
       "      <td>t</td>\n",
       "      <td>f</td>\n",
       "      <td>NaN</td>\n",
       "      <td>2013-12-13</td>\n",
       "      <td>f</td>\n",
       "      <td>NaN</td>\n",
       "      <td>42.319265</td>\n",
       "      <td>-71.113246</td>\n",
       "      <td>Beautiful Home in Jamaica Plain, MA</td>\n",
       "      <td>Jamaica Plain</td>\n",
       "      <td>0</td>\n",
       "      <td>NaN</td>\n",
       "      <td>https://a0.muscache.com/im/pictures/86832250/f...</td>\n",
       "      <td>02130</td>\n",
       "      <td>1.0</td>\n",
       "      <td>1.0</td>\n",
       "    </tr>\n",
       "    <tr>\n",
       "      <td>4</td>\n",
       "      <td>16253186</td>\n",
       "      <td>4.962845</td>\n",
       "      <td>Apartment</td>\n",
       "      <td>Entire home/apt</td>\n",
       "      <td>{TV,\"Wireless Internet\",Kitchen,\"Family/kid fr...</td>\n",
       "      <td>2</td>\n",
       "      <td>1.0</td>\n",
       "      <td>Real Bed</td>\n",
       "      <td>flexible</td>\n",
       "      <td>False</td>\n",
       "      <td>Boston</td>\n",
       "      <td>Nicely decorated comfortable 1 bedroom in very...</td>\n",
       "      <td>2017-05-21</td>\n",
       "      <td>t</td>\n",
       "      <td>f</td>\n",
       "      <td>NaN</td>\n",
       "      <td>2017-05-05</td>\n",
       "      <td>t</td>\n",
       "      <td>2017-05-27</td>\n",
       "      <td>42.357198</td>\n",
       "      <td>-71.071588</td>\n",
       "      <td>Clean upscale apt and location</td>\n",
       "      <td>Beacon Hill</td>\n",
       "      <td>2</td>\n",
       "      <td>80.0</td>\n",
       "      <td>https://a0.muscache.com/im/pictures/9bf5ae4c-f...</td>\n",
       "      <td>02114</td>\n",
       "      <td>1.0</td>\n",
       "      <td>1.0</td>\n",
       "    </tr>\n",
       "  </tbody>\n",
       "</table>\n",
       "</div>"
      ],
      "text/plain": [
       "         id  log_price property_type        room_type  \\\n",
       "0  14648556   4.595120     Townhouse     Private room   \n",
       "1   4680055   4.682131   Condominium     Private room   \n",
       "2   4274462   4.828314     Apartment  Entire home/apt   \n",
       "3   2278299   4.094345         House     Private room   \n",
       "4  16253186   4.962845     Apartment  Entire home/apt   \n",
       "\n",
       "                                           amenities  accommodates  bathrooms  \\\n",
       "0  {Internet,\"Wireless Internet\",\"Air conditionin...             2        2.0   \n",
       "1  {TV,Internet,\"Wireless Internet\",\"Air conditio...             2        1.0   \n",
       "2  {TV,\"Wireless Internet\",\"Air conditioning\",Kit...             6        1.0   \n",
       "3  {TV,Internet,\"Wireless Internet\",Kitchen,\"Free...             2        1.0   \n",
       "4  {TV,\"Wireless Internet\",Kitchen,\"Family/kid fr...             2        1.0   \n",
       "\n",
       "   bed_type cancellation_policy  cleaning_fee    city  \\\n",
       "0  Real Bed              strict          True  Boston   \n",
       "1  Real Bed              strict          True  Boston   \n",
       "2  Real Bed              strict          True  Boston   \n",
       "3  Real Bed            flexible         False  Boston   \n",
       "4  Real Bed            flexible         False  Boston   \n",
       "\n",
       "                                         description first_review  \\\n",
       "0  This is a nice duplex in a good location.Recen...   2016-07-16   \n",
       "1  Tourists/Conference-goers great choice! Privat...   2016-03-20   \n",
       "2  An Entire 2 bedroom, 600sqft, apartment w/ 4 t...   2017-09-14   \n",
       "3  This is a beautiful space in a gorgeous, newly...          NaN   \n",
       "4  Nicely decorated comfortable 1 bedroom in very...   2017-05-21   \n",
       "\n",
       "  host_has_profile_pic host_identity_verified host_response_rate  host_since  \\\n",
       "0                    t                      t               100%  2014-07-27   \n",
       "1                    t                      t               100%  2013-06-16   \n",
       "2                    t                      t               100%  2015-01-25   \n",
       "3                    t                      f                NaN  2013-12-13   \n",
       "4                    t                      f                NaN  2017-05-05   \n",
       "\n",
       "  instant_bookable last_review   latitude  longitude  \\\n",
       "0                f  2017-02-07  42.339194 -71.049672   \n",
       "1                t  2017-09-17  42.330628 -71.053148   \n",
       "2                f  2017-10-02  42.336007 -71.052918   \n",
       "3                f         NaN  42.319265 -71.113246   \n",
       "4                t  2017-05-27  42.357198 -71.071588   \n",
       "\n",
       "                                                name  neighbourhood  \\\n",
       "0  Comfy room (C) near T, convention center, down...   South Boston   \n",
       "1  Private Bedroom Close To Downtown/Subway Red line   South Boston   \n",
       "2        **NEW*Downtown/Convention/Subway/Beach C130   South Boston   \n",
       "3                Beautiful Home in Jamaica Plain, MA  Jamaica Plain   \n",
       "4                     Clean upscale apt and location    Beacon Hill   \n",
       "\n",
       "   number_of_reviews  review_scores_rating  \\\n",
       "0                 12                  88.0   \n",
       "1                 40                  96.0   \n",
       "2                  5                 100.0   \n",
       "3                  0                   NaN   \n",
       "4                  2                  80.0   \n",
       "\n",
       "                                       thumbnail_url zipcode  bedrooms  beds  \n",
       "0  https://a0.muscache.com/im/pictures/176088bb-3...   02127       1.0   1.0  \n",
       "1  https://a0.muscache.com/im/pictures/aad0eaa7-a...   02127       1.0   1.0  \n",
       "2  https://a0.muscache.com/im/pictures/3d35ea0b-e...   02127       2.0   4.0  \n",
       "3  https://a0.muscache.com/im/pictures/86832250/f...   02130       1.0   1.0  \n",
       "4  https://a0.muscache.com/im/pictures/9bf5ae4c-f...   02114       1.0   1.0  "
      ]
     },
     "execution_count": 5,
     "metadata": {},
     "output_type": "execute_result"
    }
   ],
   "source": [
    "boston_data.head()"
   ]
  },
  {
   "cell_type": "markdown",
   "metadata": {},
   "source": [
    "__After initial data inspection, removing the attributes which do not contribute towards the regression__"
   ]
  },
  {
   "cell_type": "code",
   "execution_count": 6,
   "metadata": {},
   "outputs": [],
   "source": [
    "drop_cols = ['id','city', 'description', 'first_review', 'last_review', 'host_since', 'latitude', 'longitude', \\\n",
    "            'name', 'neighbourhood', 'thumbnail_url', 'zipcode']\n",
    "\n",
    "boston_data.drop(columns=drop_cols, inplace=True)"
   ]
  },
  {
   "cell_type": "markdown",
   "metadata": {},
   "source": [
    "__Check the datatype of the retained attributes__"
   ]
  },
  {
   "cell_type": "code",
   "execution_count": 7,
   "metadata": {},
   "outputs": [
    {
     "name": "stdout",
     "output_type": "stream",
     "text": [
      "<class 'pandas.core.frame.DataFrame'>\n",
      "RangeIndex: 3468 entries, 0 to 3467\n",
      "Data columns (total 17 columns):\n",
      "log_price                 3468 non-null float64\n",
      "property_type             3468 non-null object\n",
      "room_type                 3468 non-null object\n",
      "amenities                 3468 non-null object\n",
      "accommodates              3468 non-null int64\n",
      "bathrooms                 3462 non-null float64\n",
      "bed_type                  3468 non-null object\n",
      "cancellation_policy       3468 non-null object\n",
      "cleaning_fee              3468 non-null bool\n",
      "host_has_profile_pic      3468 non-null object\n",
      "host_identity_verified    3468 non-null object\n",
      "host_response_rate        2887 non-null object\n",
      "instant_bookable          3468 non-null object\n",
      "number_of_reviews         3468 non-null int64\n",
      "review_scores_rating      2820 non-null float64\n",
      "bedrooms                  3465 non-null float64\n",
      "beds                      3466 non-null float64\n",
      "dtypes: bool(1), float64(5), int64(2), object(9)\n",
      "memory usage: 437.0+ KB\n"
     ]
    }
   ],
   "source": [
    "boston_data.info()"
   ]
  },
  {
   "cell_type": "markdown",
   "metadata": {},
   "source": [
    "__Check for attributes with missing values__"
   ]
  },
  {
   "cell_type": "code",
   "execution_count": 8,
   "metadata": {},
   "outputs": [
    {
     "data": {
      "text/plain": [
       "log_price                   0\n",
       "property_type               0\n",
       "room_type                   0\n",
       "amenities                   0\n",
       "accommodates                0\n",
       "bathrooms                   6\n",
       "bed_type                    0\n",
       "cancellation_policy         0\n",
       "cleaning_fee                0\n",
       "host_has_profile_pic        0\n",
       "host_identity_verified      0\n",
       "host_response_rate        581\n",
       "instant_bookable            0\n",
       "number_of_reviews           0\n",
       "review_scores_rating      648\n",
       "bedrooms                    3\n",
       "beds                        2\n",
       "dtype: int64"
      ]
     },
     "execution_count": 8,
     "metadata": {},
     "output_type": "execute_result"
    }
   ],
   "source": [
    "boston_data.isnull().sum()"
   ]
  },
  {
   "cell_type": "markdown",
   "metadata": {},
   "source": [
    "## Initial impressions on data and next steps\n",
    "\n",
    "### The following columns have missing values:\n",
    "\n",
    "> bathrooms\n",
    "\n",
    "> host_response_rate\n",
    "\n",
    "> review_scores_rating\n",
    "\n",
    "> bedrooms\n",
    "\n",
    "> beds\n",
    "\n",
    "* Based on analysis, missing values will be imputed with appropriate values\n",
    "\n",
    "* The column __amenities__ has values in the form of JSON. So we will replace it with the count of amenities provided by the host\n",
    "\n",
    "* Categorical columns need processing to convert them into numerical form."
   ]
  },
  {
   "cell_type": "markdown",
   "metadata": {},
   "source": [
    "__host_has_profile_pic__ , __host_identity_verified__ and __instant_bookable__ columns have t for true and f for false. Replacing t with 1 and f with 0"
   ]
  },
  {
   "cell_type": "code",
   "execution_count": 9,
   "metadata": {},
   "outputs": [],
   "source": [
    "boston_data.replace(to_replace = \"t\", value = 1,inplace=True) \n",
    "boston_data.replace(to_replace = \"f\", value = 0,inplace=True)\n",
    "\n",
    "boston_data.replace(to_replace = True, value = 1,inplace=True) \n",
    "boston_data.replace(to_replace = False, value = 0,inplace=True)"
   ]
  },
  {
   "cell_type": "markdown",
   "metadata": {},
   "source": [
    "__Inspect the distinct values of the column `property_type`__"
   ]
  },
  {
   "cell_type": "code",
   "execution_count": 10,
   "metadata": {},
   "outputs": [
    {
     "data": {
      "text/plain": [
       "Apartment             2383\n",
       "House                  563\n",
       "Condominium            339\n",
       "Townhouse               54\n",
       "Other                   44\n",
       "Loft                    24\n",
       "Bed & Breakfast         17\n",
       "Boat                    10\n",
       "Guest suite              8\n",
       "Villa                    6\n",
       "Hostel                   4\n",
       "Guesthouse               4\n",
       "In-law                   4\n",
       "Dorm                     3\n",
       "Timeshare                3\n",
       "Serviced apartment       1\n",
       "Boutique hotel           1\n",
       "Name: property_type, dtype: int64"
      ]
     },
     "execution_count": 10,
     "metadata": {},
     "output_type": "execute_result"
    }
   ],
   "source": [
    "boston_data['property_type'].value_counts()"
   ]
  },
  {
   "cell_type": "markdown",
   "metadata": {},
   "source": [
    "__Since the occurence of many property types is less than 50(or less than 10 in majority cases), we will replace the values of these property types as `Other` to avoid increased dimensionality__"
   ]
  },
  {
   "cell_type": "code",
   "execution_count": 11,
   "metadata": {},
   "outputs": [],
   "source": [
    "p_types = ['Apartment','House','Condominium','Townhouse']\n",
    "boston_data.loc[~boston_data.property_type.isin(p_types), 'property_type'] = 'Other'"
   ]
  },
  {
   "cell_type": "markdown",
   "metadata": {},
   "source": [
    "__Inspect the distinct values of the column `room_type`__"
   ]
  },
  {
   "cell_type": "code",
   "execution_count": 12,
   "metadata": {},
   "outputs": [
    {
     "data": {
      "text/plain": [
       "array(['Private room', 'Entire home/apt', 'Shared room'], dtype=object)"
      ]
     },
     "execution_count": 12,
     "metadata": {},
     "output_type": "execute_result"
    }
   ],
   "source": [
    "boston_data['room_type'].unique()"
   ]
  },
  {
   "cell_type": "markdown",
   "metadata": {},
   "source": [
    "__Inspect the distinct values of the column `bed_type`__"
   ]
  },
  {
   "cell_type": "code",
   "execution_count": 13,
   "metadata": {},
   "outputs": [
    {
     "data": {
      "text/plain": [
       "array(['Real Bed', 'Futon', 'Airbed', 'Pull-out Sofa', 'Couch'],\n",
       "      dtype=object)"
      ]
     },
     "execution_count": 13,
     "metadata": {},
     "output_type": "execute_result"
    }
   ],
   "source": [
    "boston_data['bed_type'].unique()"
   ]
  },
  {
   "cell_type": "markdown",
   "metadata": {},
   "source": [
    "__Inspect the distinct values of the column `cancellation_policy`__"
   ]
  },
  {
   "cell_type": "code",
   "execution_count": 14,
   "metadata": {},
   "outputs": [
    {
     "data": {
      "text/plain": [
       "array(['strict', 'flexible', 'super_strict_30', 'moderate',\n",
       "       'super_strict_60'], dtype=object)"
      ]
     },
     "execution_count": 14,
     "metadata": {},
     "output_type": "execute_result"
    }
   ],
   "source": [
    "boston_data['cancellation_policy'].unique()"
   ]
  },
  {
   "cell_type": "markdown",
   "metadata": {},
   "source": [
    "Since all these features are nominal categorical values, we will use OneHotEncoder to convert these categorical features to numeric features"
   ]
  },
  {
   "cell_type": "code",
   "execution_count": null,
   "metadata": {},
   "outputs": [],
   "source": []
  },
  {
   "cell_type": "markdown",
   "metadata": {},
   "source": [
    "__Converting the categorical columns to numeric by using `OneHotEncoder`__"
   ]
  },
  {
   "cell_type": "code",
   "execution_count": 15,
   "metadata": {},
   "outputs": [],
   "source": [
    "from sklearn.preprocessing import OneHotEncoder\n",
    "\n",
    "encoder = OneHotEncoder()\n",
    "feature_df = pd.DataFrame(encoder.fit_transform(boston_data[['room_type','bed_type','cancellation_policy', 'property_type','cleaning_fee']]).toarray(), \n",
    "                        columns = encoder.get_feature_names(['room_type','bed_type','cancellation_policy', 'property_type','cleaning_fee']))\n",
    "boston_data = pd.merge(boston_data, feature_df, how='left', left_index=True, right_index=True)\n",
    "boston_data.drop(columns=['room_type','bed_type','cancellation_policy', 'property_type','cleaning_fee'], inplace=True)"
   ]
  },
  {
   "cell_type": "code",
   "execution_count": null,
   "metadata": {},
   "outputs": [],
   "source": []
  },
  {
   "cell_type": "markdown",
   "metadata": {},
   "source": [
    "__Since the column `amenities` has json values, we fetch the count of amenities provided by each property and replace the json values with the count of amenities.__\n",
    "\n",
    "__We are not using `OneHotEncoder` for this column since the maximum number of amenities is 78 and it will add to the dimensionality of the dataset significantly.__\n",
    "\n",
    "__In our opinion, the count of amenities is also a good indicator to predict the price rather than taking into account 78 distinct columns.__"
   ]
  },
  {
   "cell_type": "code",
   "execution_count": 16,
   "metadata": {},
   "outputs": [],
   "source": [
    "amenities_count = []\n",
    "for i in boston_data['amenities']:\n",
    "    amenities_count.append(len(i.split(',')))\n",
    "boston_data['amenities'] = amenities_count"
   ]
  },
  {
   "cell_type": "markdown",
   "metadata": {},
   "source": [
    "__Inspecting the values of the column `host_response_rate`__"
   ]
  },
  {
   "cell_type": "code",
   "execution_count": 17,
   "metadata": {},
   "outputs": [
    {
     "data": {
      "text/plain": [
       "array(['100%', nan, '88%', '96%', '92%', '94%', '99%', '93%', '54%',\n",
       "       '33%', '80%', '70%', '67%', '81%', '90%', '98%', '25%', '86%',\n",
       "       '97%', '0%', '50%', '75%', '87%', '60%', '77%', '46%', '55%',\n",
       "       '59%', '83%', '79%', '89%', '64%', '10%', '73%', '68%', '95%',\n",
       "       '20%', '56%', '78%'], dtype=object)"
      ]
     },
     "execution_count": 17,
     "metadata": {},
     "output_type": "execute_result"
    }
   ],
   "source": [
    "boston_data['host_response_rate'].unique()"
   ]
  },
  {
   "cell_type": "markdown",
   "metadata": {},
   "source": [
    "__Since the response rates are in string, we convert it to numeric values between 0 to 1, where range between 0 and 1 represent values between 0% to 100%__"
   ]
  },
  {
   "cell_type": "code",
   "execution_count": 18,
   "metadata": {},
   "outputs": [],
   "source": [
    "boston_data['host_response_rate'] = boston_data['host_response_rate'].str.strip('%').astype(float)\n",
    "boston_data['host_response_rate'] = boston_data['host_response_rate']/100"
   ]
  },
  {
   "cell_type": "markdown",
   "metadata": {},
   "source": [
    "__Inspect the datatypes of all the columns after data pre-processing__"
   ]
  },
  {
   "cell_type": "code",
   "execution_count": 19,
   "metadata": {},
   "outputs": [
    {
     "data": {
      "text/plain": [
       "log_price                              float64\n",
       "amenities                                int64\n",
       "accommodates                             int64\n",
       "bathrooms                              float64\n",
       "host_has_profile_pic                     int64\n",
       "host_identity_verified                   int64\n",
       "host_response_rate                     float64\n",
       "instant_bookable                         int64\n",
       "number_of_reviews                        int64\n",
       "review_scores_rating                   float64\n",
       "bedrooms                               float64\n",
       "beds                                   float64\n",
       "room_type_Entire home/apt              float64\n",
       "room_type_Private room                 float64\n",
       "room_type_Shared room                  float64\n",
       "bed_type_Airbed                        float64\n",
       "bed_type_Couch                         float64\n",
       "bed_type_Futon                         float64\n",
       "bed_type_Pull-out Sofa                 float64\n",
       "bed_type_Real Bed                      float64\n",
       "cancellation_policy_flexible           float64\n",
       "cancellation_policy_moderate           float64\n",
       "cancellation_policy_strict             float64\n",
       "cancellation_policy_super_strict_30    float64\n",
       "cancellation_policy_super_strict_60    float64\n",
       "property_type_Apartment                float64\n",
       "property_type_Condominium              float64\n",
       "property_type_House                    float64\n",
       "property_type_Other                    float64\n",
       "property_type_Townhouse                float64\n",
       "cleaning_fee_0.0                       float64\n",
       "cleaning_fee_1.0                       float64\n",
       "dtype: object"
      ]
     },
     "execution_count": 19,
     "metadata": {},
     "output_type": "execute_result"
    }
   ],
   "source": [
    "boston_data.dtypes"
   ]
  },
  {
   "cell_type": "markdown",
   "metadata": {},
   "source": [
    "__After data pre-processing, we have all the columns in numeric form. Now we can proceed to treat missing variables__"
   ]
  },
  {
   "cell_type": "markdown",
   "metadata": {},
   "source": [
    "## Missing value treatment"
   ]
  },
  {
   "cell_type": "code",
   "execution_count": 217,
   "metadata": {},
   "outputs": [
    {
     "data": {
      "text/html": [
       "<div>\n",
       "<style scoped>\n",
       "    .dataframe tbody tr th:only-of-type {\n",
       "        vertical-align: middle;\n",
       "    }\n",
       "\n",
       "    .dataframe tbody tr th {\n",
       "        vertical-align: top;\n",
       "    }\n",
       "\n",
       "    .dataframe thead th {\n",
       "        text-align: right;\n",
       "    }\n",
       "</style>\n",
       "<table border=\"1\" class=\"dataframe\">\n",
       "  <thead>\n",
       "    <tr style=\"text-align: right;\">\n",
       "      <th></th>\n",
       "      <th>log_price</th>\n",
       "      <th>amenities</th>\n",
       "      <th>accommodates</th>\n",
       "      <th>bathrooms</th>\n",
       "      <th>host_has_profile_pic</th>\n",
       "      <th>host_identity_verified</th>\n",
       "      <th>host_response_rate</th>\n",
       "      <th>instant_bookable</th>\n",
       "      <th>number_of_reviews</th>\n",
       "      <th>review_scores_rating</th>\n",
       "      <th>bedrooms</th>\n",
       "      <th>beds</th>\n",
       "      <th>room_type_Entire home/apt</th>\n",
       "      <th>room_type_Private room</th>\n",
       "      <th>room_type_Shared room</th>\n",
       "      <th>bed_type_Airbed</th>\n",
       "      <th>bed_type_Couch</th>\n",
       "      <th>bed_type_Futon</th>\n",
       "      <th>bed_type_Pull-out Sofa</th>\n",
       "      <th>bed_type_Real Bed</th>\n",
       "      <th>cancellation_policy_flexible</th>\n",
       "      <th>cancellation_policy_moderate</th>\n",
       "      <th>cancellation_policy_strict</th>\n",
       "      <th>cancellation_policy_super_strict_30</th>\n",
       "      <th>cancellation_policy_super_strict_60</th>\n",
       "      <th>property_type_Apartment</th>\n",
       "      <th>property_type_Condominium</th>\n",
       "      <th>property_type_House</th>\n",
       "      <th>property_type_Other</th>\n",
       "      <th>property_type_Townhouse</th>\n",
       "      <th>cleaning_fee_0.0</th>\n",
       "      <th>cleaning_fee_1.0</th>\n",
       "    </tr>\n",
       "  </thead>\n",
       "  <tbody>\n",
       "    <tr>\n",
       "      <td>count</td>\n",
       "      <td>2469.000000</td>\n",
       "      <td>2469.000000</td>\n",
       "      <td>2469.000000</td>\n",
       "      <td>2469.000000</td>\n",
       "      <td>2469.000000</td>\n",
       "      <td>2469.000000</td>\n",
       "      <td>2469.000000</td>\n",
       "      <td>2469.000000</td>\n",
       "      <td>2469.000000</td>\n",
       "      <td>2469.000000</td>\n",
       "      <td>2469.000000</td>\n",
       "      <td>2469.000000</td>\n",
       "      <td>2469.000000</td>\n",
       "      <td>2469.00000</td>\n",
       "      <td>2469.000000</td>\n",
       "      <td>2469.000000</td>\n",
       "      <td>2469.000000</td>\n",
       "      <td>2469.000000</td>\n",
       "      <td>2469.000000</td>\n",
       "      <td>2469.000000</td>\n",
       "      <td>2469.000000</td>\n",
       "      <td>2469.000000</td>\n",
       "      <td>2469.000000</td>\n",
       "      <td>2469.000000</td>\n",
       "      <td>2469.000000</td>\n",
       "      <td>2469.000000</td>\n",
       "      <td>2469.000000</td>\n",
       "      <td>2469.000000</td>\n",
       "      <td>2469.000000</td>\n",
       "      <td>2469.000000</td>\n",
       "      <td>2469.000000</td>\n",
       "      <td>2469.000000</td>\n",
       "    </tr>\n",
       "    <tr>\n",
       "      <td>mean</td>\n",
       "      <td>4.872628</td>\n",
       "      <td>21.154719</td>\n",
       "      <td>3.387606</td>\n",
       "      <td>1.244431</td>\n",
       "      <td>0.998785</td>\n",
       "      <td>0.646416</td>\n",
       "      <td>0.974062</td>\n",
       "      <td>0.383556</td>\n",
       "      <td>34.621709</td>\n",
       "      <td>93.744836</td>\n",
       "      <td>1.348319</td>\n",
       "      <td>1.829081</td>\n",
       "      <td>0.622924</td>\n",
       "      <td>0.36695</td>\n",
       "      <td>0.010126</td>\n",
       "      <td>0.009316</td>\n",
       "      <td>0.000810</td>\n",
       "      <td>0.007695</td>\n",
       "      <td>0.005670</td>\n",
       "      <td>0.976509</td>\n",
       "      <td>0.162819</td>\n",
       "      <td>0.264885</td>\n",
       "      <td>0.559336</td>\n",
       "      <td>0.012151</td>\n",
       "      <td>0.000810</td>\n",
       "      <td>0.663021</td>\n",
       "      <td>0.098015</td>\n",
       "      <td>0.186715</td>\n",
       "      <td>0.034427</td>\n",
       "      <td>0.017821</td>\n",
       "      <td>0.164844</td>\n",
       "      <td>0.835156</td>\n",
       "    </tr>\n",
       "    <tr>\n",
       "      <td>std</td>\n",
       "      <td>0.644995</td>\n",
       "      <td>7.961997</td>\n",
       "      <td>2.281458</td>\n",
       "      <td>0.528267</td>\n",
       "      <td>0.034844</td>\n",
       "      <td>0.478179</td>\n",
       "      <td>0.098226</td>\n",
       "      <td>0.486350</td>\n",
       "      <td>49.685195</td>\n",
       "      <td>7.522178</td>\n",
       "      <td>0.913266</td>\n",
       "      <td>1.385540</td>\n",
       "      <td>0.484752</td>\n",
       "      <td>0.48207</td>\n",
       "      <td>0.100135</td>\n",
       "      <td>0.096086</td>\n",
       "      <td>0.028456</td>\n",
       "      <td>0.087403</td>\n",
       "      <td>0.075103</td>\n",
       "      <td>0.151488</td>\n",
       "      <td>0.369275</td>\n",
       "      <td>0.441361</td>\n",
       "      <td>0.496567</td>\n",
       "      <td>0.109581</td>\n",
       "      <td>0.028456</td>\n",
       "      <td>0.472773</td>\n",
       "      <td>0.297396</td>\n",
       "      <td>0.389762</td>\n",
       "      <td>0.182360</td>\n",
       "      <td>0.132327</td>\n",
       "      <td>0.371115</td>\n",
       "      <td>0.371115</td>\n",
       "    </tr>\n",
       "    <tr>\n",
       "      <td>min</td>\n",
       "      <td>2.833213</td>\n",
       "      <td>1.000000</td>\n",
       "      <td>1.000000</td>\n",
       "      <td>0.000000</td>\n",
       "      <td>0.000000</td>\n",
       "      <td>0.000000</td>\n",
       "      <td>0.000000</td>\n",
       "      <td>0.000000</td>\n",
       "      <td>1.000000</td>\n",
       "      <td>20.000000</td>\n",
       "      <td>0.000000</td>\n",
       "      <td>0.000000</td>\n",
       "      <td>0.000000</td>\n",
       "      <td>0.00000</td>\n",
       "      <td>0.000000</td>\n",
       "      <td>0.000000</td>\n",
       "      <td>0.000000</td>\n",
       "      <td>0.000000</td>\n",
       "      <td>0.000000</td>\n",
       "      <td>0.000000</td>\n",
       "      <td>0.000000</td>\n",
       "      <td>0.000000</td>\n",
       "      <td>0.000000</td>\n",
       "      <td>0.000000</td>\n",
       "      <td>0.000000</td>\n",
       "      <td>0.000000</td>\n",
       "      <td>0.000000</td>\n",
       "      <td>0.000000</td>\n",
       "      <td>0.000000</td>\n",
       "      <td>0.000000</td>\n",
       "      <td>0.000000</td>\n",
       "      <td>0.000000</td>\n",
       "    </tr>\n",
       "    <tr>\n",
       "      <td>25%</td>\n",
       "      <td>4.382027</td>\n",
       "      <td>16.000000</td>\n",
       "      <td>2.000000</td>\n",
       "      <td>1.000000</td>\n",
       "      <td>1.000000</td>\n",
       "      <td>0.000000</td>\n",
       "      <td>1.000000</td>\n",
       "      <td>0.000000</td>\n",
       "      <td>4.000000</td>\n",
       "      <td>91.000000</td>\n",
       "      <td>1.000000</td>\n",
       "      <td>1.000000</td>\n",
       "      <td>0.000000</td>\n",
       "      <td>0.00000</td>\n",
       "      <td>0.000000</td>\n",
       "      <td>0.000000</td>\n",
       "      <td>0.000000</td>\n",
       "      <td>0.000000</td>\n",
       "      <td>0.000000</td>\n",
       "      <td>1.000000</td>\n",
       "      <td>0.000000</td>\n",
       "      <td>0.000000</td>\n",
       "      <td>0.000000</td>\n",
       "      <td>0.000000</td>\n",
       "      <td>0.000000</td>\n",
       "      <td>0.000000</td>\n",
       "      <td>0.000000</td>\n",
       "      <td>0.000000</td>\n",
       "      <td>0.000000</td>\n",
       "      <td>0.000000</td>\n",
       "      <td>0.000000</td>\n",
       "      <td>1.000000</td>\n",
       "    </tr>\n",
       "    <tr>\n",
       "      <td>50%</td>\n",
       "      <td>4.905275</td>\n",
       "      <td>20.000000</td>\n",
       "      <td>2.000000</td>\n",
       "      <td>1.000000</td>\n",
       "      <td>1.000000</td>\n",
       "      <td>1.000000</td>\n",
       "      <td>1.000000</td>\n",
       "      <td>0.000000</td>\n",
       "      <td>15.000000</td>\n",
       "      <td>96.000000</td>\n",
       "      <td>1.000000</td>\n",
       "      <td>1.000000</td>\n",
       "      <td>1.000000</td>\n",
       "      <td>0.00000</td>\n",
       "      <td>0.000000</td>\n",
       "      <td>0.000000</td>\n",
       "      <td>0.000000</td>\n",
       "      <td>0.000000</td>\n",
       "      <td>0.000000</td>\n",
       "      <td>1.000000</td>\n",
       "      <td>0.000000</td>\n",
       "      <td>0.000000</td>\n",
       "      <td>1.000000</td>\n",
       "      <td>0.000000</td>\n",
       "      <td>0.000000</td>\n",
       "      <td>1.000000</td>\n",
       "      <td>0.000000</td>\n",
       "      <td>0.000000</td>\n",
       "      <td>0.000000</td>\n",
       "      <td>0.000000</td>\n",
       "      <td>0.000000</td>\n",
       "      <td>1.000000</td>\n",
       "    </tr>\n",
       "    <tr>\n",
       "      <td>75%</td>\n",
       "      <td>5.293305</td>\n",
       "      <td>25.000000</td>\n",
       "      <td>4.000000</td>\n",
       "      <td>1.000000</td>\n",
       "      <td>1.000000</td>\n",
       "      <td>1.000000</td>\n",
       "      <td>1.000000</td>\n",
       "      <td>1.000000</td>\n",
       "      <td>44.000000</td>\n",
       "      <td>99.000000</td>\n",
       "      <td>2.000000</td>\n",
       "      <td>2.000000</td>\n",
       "      <td>1.000000</td>\n",
       "      <td>1.00000</td>\n",
       "      <td>0.000000</td>\n",
       "      <td>0.000000</td>\n",
       "      <td>0.000000</td>\n",
       "      <td>0.000000</td>\n",
       "      <td>0.000000</td>\n",
       "      <td>1.000000</td>\n",
       "      <td>0.000000</td>\n",
       "      <td>1.000000</td>\n",
       "      <td>1.000000</td>\n",
       "      <td>0.000000</td>\n",
       "      <td>0.000000</td>\n",
       "      <td>1.000000</td>\n",
       "      <td>0.000000</td>\n",
       "      <td>0.000000</td>\n",
       "      <td>0.000000</td>\n",
       "      <td>0.000000</td>\n",
       "      <td>0.000000</td>\n",
       "      <td>1.000000</td>\n",
       "    </tr>\n",
       "    <tr>\n",
       "      <td>max</td>\n",
       "      <td>7.244228</td>\n",
       "      <td>58.000000</td>\n",
       "      <td>16.000000</td>\n",
       "      <td>6.000000</td>\n",
       "      <td>1.000000</td>\n",
       "      <td>1.000000</td>\n",
       "      <td>1.000000</td>\n",
       "      <td>1.000000</td>\n",
       "      <td>380.000000</td>\n",
       "      <td>100.000000</td>\n",
       "      <td>10.000000</td>\n",
       "      <td>16.000000</td>\n",
       "      <td>1.000000</td>\n",
       "      <td>1.00000</td>\n",
       "      <td>1.000000</td>\n",
       "      <td>1.000000</td>\n",
       "      <td>1.000000</td>\n",
       "      <td>1.000000</td>\n",
       "      <td>1.000000</td>\n",
       "      <td>1.000000</td>\n",
       "      <td>1.000000</td>\n",
       "      <td>1.000000</td>\n",
       "      <td>1.000000</td>\n",
       "      <td>1.000000</td>\n",
       "      <td>1.000000</td>\n",
       "      <td>1.000000</td>\n",
       "      <td>1.000000</td>\n",
       "      <td>1.000000</td>\n",
       "      <td>1.000000</td>\n",
       "      <td>1.000000</td>\n",
       "      <td>1.000000</td>\n",
       "      <td>1.000000</td>\n",
       "    </tr>\n",
       "  </tbody>\n",
       "</table>\n",
       "</div>"
      ],
      "text/plain": [
       "         log_price    amenities  accommodates    bathrooms  \\\n",
       "count  2469.000000  2469.000000   2469.000000  2469.000000   \n",
       "mean      4.872628    21.154719      3.387606     1.244431   \n",
       "std       0.644995     7.961997      2.281458     0.528267   \n",
       "min       2.833213     1.000000      1.000000     0.000000   \n",
       "25%       4.382027    16.000000      2.000000     1.000000   \n",
       "50%       4.905275    20.000000      2.000000     1.000000   \n",
       "75%       5.293305    25.000000      4.000000     1.000000   \n",
       "max       7.244228    58.000000     16.000000     6.000000   \n",
       "\n",
       "       host_has_profile_pic  host_identity_verified  host_response_rate  \\\n",
       "count           2469.000000             2469.000000         2469.000000   \n",
       "mean               0.998785                0.646416            0.974062   \n",
       "std                0.034844                0.478179            0.098226   \n",
       "min                0.000000                0.000000            0.000000   \n",
       "25%                1.000000                0.000000            1.000000   \n",
       "50%                1.000000                1.000000            1.000000   \n",
       "75%                1.000000                1.000000            1.000000   \n",
       "max                1.000000                1.000000            1.000000   \n",
       "\n",
       "       instant_bookable  number_of_reviews  review_scores_rating     bedrooms  \\\n",
       "count       2469.000000        2469.000000           2469.000000  2469.000000   \n",
       "mean           0.383556          34.621709             93.744836     1.348319   \n",
       "std            0.486350          49.685195              7.522178     0.913266   \n",
       "min            0.000000           1.000000             20.000000     0.000000   \n",
       "25%            0.000000           4.000000             91.000000     1.000000   \n",
       "50%            0.000000          15.000000             96.000000     1.000000   \n",
       "75%            1.000000          44.000000             99.000000     2.000000   \n",
       "max            1.000000         380.000000            100.000000    10.000000   \n",
       "\n",
       "              beds  room_type_Entire home/apt  room_type_Private room  \\\n",
       "count  2469.000000                2469.000000              2469.00000   \n",
       "mean      1.829081                   0.622924                 0.36695   \n",
       "std       1.385540                   0.484752                 0.48207   \n",
       "min       0.000000                   0.000000                 0.00000   \n",
       "25%       1.000000                   0.000000                 0.00000   \n",
       "50%       1.000000                   1.000000                 0.00000   \n",
       "75%       2.000000                   1.000000                 1.00000   \n",
       "max      16.000000                   1.000000                 1.00000   \n",
       "\n",
       "       room_type_Shared room  bed_type_Airbed  bed_type_Couch  bed_type_Futon  \\\n",
       "count            2469.000000      2469.000000     2469.000000     2469.000000   \n",
       "mean                0.010126         0.009316        0.000810        0.007695   \n",
       "std                 0.100135         0.096086        0.028456        0.087403   \n",
       "min                 0.000000         0.000000        0.000000        0.000000   \n",
       "25%                 0.000000         0.000000        0.000000        0.000000   \n",
       "50%                 0.000000         0.000000        0.000000        0.000000   \n",
       "75%                 0.000000         0.000000        0.000000        0.000000   \n",
       "max                 1.000000         1.000000        1.000000        1.000000   \n",
       "\n",
       "       bed_type_Pull-out Sofa  bed_type_Real Bed  \\\n",
       "count             2469.000000        2469.000000   \n",
       "mean                 0.005670           0.976509   \n",
       "std                  0.075103           0.151488   \n",
       "min                  0.000000           0.000000   \n",
       "25%                  0.000000           1.000000   \n",
       "50%                  0.000000           1.000000   \n",
       "75%                  0.000000           1.000000   \n",
       "max                  1.000000           1.000000   \n",
       "\n",
       "       cancellation_policy_flexible  cancellation_policy_moderate  \\\n",
       "count                   2469.000000                   2469.000000   \n",
       "mean                       0.162819                      0.264885   \n",
       "std                        0.369275                      0.441361   \n",
       "min                        0.000000                      0.000000   \n",
       "25%                        0.000000                      0.000000   \n",
       "50%                        0.000000                      0.000000   \n",
       "75%                        0.000000                      1.000000   \n",
       "max                        1.000000                      1.000000   \n",
       "\n",
       "       cancellation_policy_strict  cancellation_policy_super_strict_30  \\\n",
       "count                 2469.000000                          2469.000000   \n",
       "mean                     0.559336                             0.012151   \n",
       "std                      0.496567                             0.109581   \n",
       "min                      0.000000                             0.000000   \n",
       "25%                      0.000000                             0.000000   \n",
       "50%                      1.000000                             0.000000   \n",
       "75%                      1.000000                             0.000000   \n",
       "max                      1.000000                             1.000000   \n",
       "\n",
       "       cancellation_policy_super_strict_60  property_type_Apartment  \\\n",
       "count                          2469.000000              2469.000000   \n",
       "mean                              0.000810                 0.663021   \n",
       "std                               0.028456                 0.472773   \n",
       "min                               0.000000                 0.000000   \n",
       "25%                               0.000000                 0.000000   \n",
       "50%                               0.000000                 1.000000   \n",
       "75%                               0.000000                 1.000000   \n",
       "max                               1.000000                 1.000000   \n",
       "\n",
       "       property_type_Condominium  property_type_House  property_type_Other  \\\n",
       "count                2469.000000          2469.000000          2469.000000   \n",
       "mean                    0.098015             0.186715             0.034427   \n",
       "std                     0.297396             0.389762             0.182360   \n",
       "min                     0.000000             0.000000             0.000000   \n",
       "25%                     0.000000             0.000000             0.000000   \n",
       "50%                     0.000000             0.000000             0.000000   \n",
       "75%                     0.000000             0.000000             0.000000   \n",
       "max                     1.000000             1.000000             1.000000   \n",
       "\n",
       "       property_type_Townhouse  cleaning_fee_0.0  cleaning_fee_1.0  \n",
       "count              2469.000000       2469.000000       2469.000000  \n",
       "mean                  0.017821          0.164844          0.835156  \n",
       "std                   0.132327          0.371115          0.371115  \n",
       "min                   0.000000          0.000000          0.000000  \n",
       "25%                   0.000000          0.000000          1.000000  \n",
       "50%                   0.000000          0.000000          1.000000  \n",
       "75%                   0.000000          0.000000          1.000000  \n",
       "max                   1.000000          1.000000          1.000000  "
      ]
     },
     "execution_count": 217,
     "metadata": {},
     "output_type": "execute_result"
    }
   ],
   "source": [
    "boston_data.describe()"
   ]
  },
  {
   "cell_type": "code",
   "execution_count": 21,
   "metadata": {},
   "outputs": [
    {
     "name": "stdout",
     "output_type": "stream",
     "text": [
      "bathrooms                 6\n",
      "host_response_rate      581\n",
      "review_scores_rating    648\n",
      "bedrooms                  3\n",
      "beds                      2\n",
      "dtype: int64\n"
     ]
    }
   ],
   "source": [
    "missing_columns = boston_data.isnull().sum()\n",
    "print(missing_columns[missing_columns > 0])"
   ]
  },
  {
   "cell_type": "markdown",
   "metadata": {},
   "source": [
    "__We will remove the rows with missing values since imputation does not makes sense for these features__"
   ]
  },
  {
   "cell_type": "code",
   "execution_count": 218,
   "metadata": {},
   "outputs": [],
   "source": [
    "boston_data = boston_data.dropna()"
   ]
  },
  {
   "cell_type": "code",
   "execution_count": 23,
   "metadata": {},
   "outputs": [
    {
     "data": {
      "text/plain": [
       "(2469, 32)"
      ]
     },
     "execution_count": 23,
     "metadata": {},
     "output_type": "execute_result"
    }
   ],
   "source": [
    "boston_data.shape"
   ]
  },
  {
   "cell_type": "markdown",
   "metadata": {},
   "source": [
    "__After data cleaning and pre-processing, we have a dataset with 2469 rows and 32 columns.__"
   ]
  },
  {
   "cell_type": "markdown",
   "metadata": {},
   "source": [
    "## Data Split and Feature Scaling"
   ]
  },
  {
   "cell_type": "markdown",
   "metadata": {},
   "source": [
    "__Separating the target variable from the features__"
   ]
  },
  {
   "cell_type": "code",
   "execution_count": 24,
   "metadata": {},
   "outputs": [],
   "source": [
    "x = boston_data.drop(columns='log_price', axis=1)\n",
    "y = boston_data['log_price']"
   ]
  },
  {
   "cell_type": "markdown",
   "metadata": {},
   "source": [
    "__Since we have many columns with values 1 and 0, using MinMaxScaler will ensure all the features are in the range of 0 to 1 bringing all the columns to the same scale__"
   ]
  },
  {
   "cell_type": "code",
   "execution_count": 25,
   "metadata": {},
   "outputs": [],
   "source": [
    "from sklearn.model_selection import train_test_split\n",
    "from sklearn.preprocessing import MinMaxScaler\n",
    "\n",
    "x_train, x_test, y_train, y_test = train_test_split(x, y, random_state=0, test_size=0.3)\n",
    "\n",
    "scaler = MinMaxScaler()\n",
    "x_train_mod = scaler.fit_transform(x_train)\n",
    "x_test_mod = scaler.transform(x_test)"
   ]
  },
  {
   "cell_type": "markdown",
   "metadata": {},
   "source": [
    "# Regression Methods"
   ]
  },
  {
   "cell_type": "markdown",
   "metadata": {},
   "source": [
    "__Setting the model scoring(evaluation) metrics to pass as a parameter to GridSearchCV method__\n",
    "\n",
    "__For all the regression models, we will be using neg_mean_squared_error as a metric to evaluate the prediction accuracy of the model. In this metric, the lower value is better for prediction accuracy__\n",
    "\n",
    "__We are not using r-squared value, as it indicates the prediciton power. But we are interested in minimizing the prediction error, so we proceed with MSE__\n",
    "\n",
    "__Although sklearn uses negative sign to indicate the MSE, the actual MSE is simply the positive version of the number we're getting__"
   ]
  },
  {
   "cell_type": "code",
   "execution_count": 93,
   "metadata": {},
   "outputs": [],
   "source": [
    "scoring = {'MSE': 'neg_mean_squared_error', 'R_squared': 'r2'}"
   ]
  },
  {
   "cell_type": "markdown",
   "metadata": {},
   "source": [
    "## KNN Regressor"
   ]
  },
  {
   "cell_type": "code",
   "execution_count": 94,
   "metadata": {},
   "outputs": [],
   "source": [
    "from sklearn.neighbors import KNeighborsRegressor\n",
    "from sklearn.model_selection import GridSearchCV\n",
    "from sklearn.metrics import roc_auc_score\n",
    "\n",
    "knn = KNeighborsRegressor()\n",
    "hyperparams = dict(n_neighbors=np.arange(1,50), p=[1,2])\n",
    "\n",
    "knn_reg = GridSearchCV(knn, param_grid=hyperparams, scoring=scoring, refit='MSE', cv=10, return_train_score=True)\n",
    "\n",
    "#Fit the model\n",
    "grid_search = knn_reg.fit(x_train_mod,y_train)"
   ]
  },
  {
   "cell_type": "code",
   "execution_count": 119,
   "metadata": {},
   "outputs": [
    {
     "name": "stdout",
     "output_type": "stream",
     "text": [
      "Best parameters: {'n_neighbors': 16, 'p': 1}\n",
      "Best cross-validation MSE: -0.18\n"
     ]
    }
   ],
   "source": [
    "print(\"Best parameters: {}\".format(grid_search.best_params_))\n",
    "print(\"Best cross-validation MSE: {:.2f}\".format(grid_search.best_score_))"
   ]
  },
  {
   "cell_type": "code",
   "execution_count": 120,
   "metadata": {},
   "outputs": [],
   "source": [
    "knn_model = grid_search.best_estimator_"
   ]
  },
  {
   "cell_type": "code",
   "execution_count": 121,
   "metadata": {},
   "outputs": [],
   "source": [
    "knn_pkl = 'knn.pickle'\n",
    "pickle.dump(knn_model, open(knn_pkl, 'wb'))"
   ]
  },
  {
   "cell_type": "markdown",
   "metadata": {},
   "source": [
    "## LinearRegression"
   ]
  },
  {
   "cell_type": "code",
   "execution_count": 122,
   "metadata": {},
   "outputs": [
    {
     "data": {
      "text/plain": [
       "LinearRegression(copy_X=True, fit_intercept=True, n_jobs=None, normalize=False)"
      ]
     },
     "execution_count": 122,
     "metadata": {},
     "output_type": "execute_result"
    }
   ],
   "source": [
    "from sklearn.linear_model import LinearRegression\n",
    "from sklearn.metrics import mean_squared_error\n",
    "\n",
    "lin_reg = LinearRegression()\n",
    "lin_reg.fit(x_train, y_train)"
   ]
  },
  {
   "cell_type": "code",
   "execution_count": 221,
   "metadata": {},
   "outputs": [
    {
     "data": {
      "text/plain": [
       "{'copy_X': True, 'fit_intercept': True, 'n_jobs': None, 'normalize': False}"
      ]
     },
     "execution_count": 221,
     "metadata": {},
     "output_type": "execute_result"
    }
   ],
   "source": [
    "lin_reg.get_params()"
   ]
  },
  {
   "cell_type": "code",
   "execution_count": 225,
   "metadata": {},
   "outputs": [
    {
     "name": "stdout",
     "output_type": "stream",
     "text": [
      "Train MSE: 0.9543791824124208\n",
      "Test MSE: 0.941664709845328\n"
     ]
    }
   ],
   "source": [
    "print(f'Train MSE: {mean_squared_error(y_train,lin_reg.predict(x_train_mod))}')\n",
    "print(f'Test MSE: {mean_squared_error(y_test,lin_reg.predict(x_test_mod))}')"
   ]
  },
  {
   "cell_type": "code",
   "execution_count": 246,
   "metadata": {},
   "outputs": [],
   "source": [
    "lin_pkl = 'lin_reg.pickle'\n",
    "pickle.dump(lin_reg, open(lin_pkl, 'wb'))"
   ]
  },
  {
   "cell_type": "markdown",
   "metadata": {},
   "source": [
    "## Ridge"
   ]
  },
  {
   "cell_type": "code",
   "execution_count": 126,
   "metadata": {},
   "outputs": [
    {
     "name": "stderr",
     "output_type": "stream",
     "text": [
      "/Users/manoj/opt/anaconda3/lib/python3.7/site-packages/sklearn/model_selection/_search.py:814: DeprecationWarning: The default of the `iid` parameter will change from True to False in version 0.22 and will be removed in 0.24. This will change numeric results when test-set sizes are unequal.\n",
      "  DeprecationWarning)\n"
     ]
    }
   ],
   "source": [
    "from sklearn.linear_model import Ridge\n",
    "\n",
    "ridge = Ridge()\n",
    "\n",
    "ridge_params = []\n",
    "r1 = np.arange(0,1,0.1)\n",
    "r2 = np.arange(1,101,1)\n",
    "ridge_params = np.concatenate((r1,r2))\n",
    "\n",
    "params = dict(alpha=ridge_params)\n",
    "\n",
    "ridgeCV = GridSearchCV(ridge, param_grid=params, scoring=scoring, refit='MSE', cv=10, return_train_score=True)\n",
    "\n",
    "#Fit the model\n",
    "grid_ridge = ridgeCV.fit(x_train_mod,y_train)"
   ]
  },
  {
   "cell_type": "code",
   "execution_count": 127,
   "metadata": {},
   "outputs": [
    {
     "name": "stdout",
     "output_type": "stream",
     "text": [
      "Best parameters: {'alpha': 1.0}\n",
      "Best cross-validation MSE: -0.17\n"
     ]
    }
   ],
   "source": [
    "#Print The value of best Hyperparameters\n",
    "print(\"Best parameters: {}\".format(grid_ridge.best_params_))\n",
    "print(\"Best cross-validation MSE: {:.2f}\".format(grid_ridge.best_score_))"
   ]
  },
  {
   "cell_type": "code",
   "execution_count": 128,
   "metadata": {},
   "outputs": [],
   "source": [
    "ridge_model = grid_ridge.best_estimator_"
   ]
  },
  {
   "cell_type": "code",
   "execution_count": 247,
   "metadata": {},
   "outputs": [],
   "source": [
    "ridge_pkl = 'ridge.pickle'\n",
    "pickle.dump(ridge_model, open(ridge_pkl, 'wb'))"
   ]
  },
  {
   "cell_type": "markdown",
   "metadata": {},
   "source": [
    "## Lasso"
   ]
  },
  {
   "cell_type": "code",
   "execution_count": 130,
   "metadata": {},
   "outputs": [],
   "source": [
    "from sklearn.linear_model import Lasso\n",
    "\n",
    "lasso = Lasso()\n",
    "\n",
    "lasso_params = []\n",
    "r1 = np.arange(0,1,0.1)\n",
    "r2 = np.arange(1,101,1)\n",
    "lasso_params = np.concatenate((r1,r2))\n",
    "\n",
    "params = dict(alpha=lasso_params)\n",
    "\n",
    "lassoCV = GridSearchCV(lasso, param_grid=params, scoring=scoring, refit='MSE', cv=10, return_train_score=True)\n",
    "\n",
    "#Fit the model\n",
    "grid_lasso = lassoCV.fit(x_train_mod,y_train)"
   ]
  },
  {
   "cell_type": "code",
   "execution_count": 131,
   "metadata": {},
   "outputs": [
    {
     "name": "stdout",
     "output_type": "stream",
     "text": [
      "Best parameters: {'alpha': 0.0}\n",
      "Best cross-validation MSE: -0.17\n"
     ]
    }
   ],
   "source": [
    "#Print The value of best Hyperparameters\n",
    "print(\"Best parameters: {}\".format(grid_lasso.best_params_))\n",
    "print(\"Best cross-validation MSE: {:.2f}\".format(grid_lasso.best_score_))"
   ]
  },
  {
   "cell_type": "code",
   "execution_count": 132,
   "metadata": {},
   "outputs": [],
   "source": [
    "lasso_model = grid_lasso.best_estimator_"
   ]
  },
  {
   "cell_type": "code",
   "execution_count": 133,
   "metadata": {},
   "outputs": [],
   "source": [
    "lasso_pkl = 'lasso.pickle'\n",
    "pickle.dump(lasso_model, open(lasso_pkl, 'wb'))"
   ]
  },
  {
   "cell_type": "markdown",
   "metadata": {},
   "source": [
    "## Polynomial regression"
   ]
  },
  {
   "cell_type": "code",
   "execution_count": 134,
   "metadata": {},
   "outputs": [
    {
     "name": "stderr",
     "output_type": "stream",
     "text": [
      "/Users/manoj/opt/anaconda3/lib/python3.7/site-packages/sklearn/model_selection/_search.py:814: DeprecationWarning: The default of the `iid` parameter will change from True to False in version 0.22 and will be removed in 0.24. This will change numeric results when test-set sizes are unequal.\n",
      "  DeprecationWarning)\n"
     ]
    },
    {
     "data": {
      "text/plain": [
       "GridSearchCV(cv=7, error_score='raise-deprecating',\n",
       "             estimator=Pipeline(memory=None,\n",
       "                                steps=[('polynomialfeatures',\n",
       "                                        PolynomialFeatures(degree=2,\n",
       "                                                           include_bias=True,\n",
       "                                                           interaction_only=False,\n",
       "                                                           order='C')),\n",
       "                                       ('linearregression',\n",
       "                                        LinearRegression(copy_X=True,\n",
       "                                                         fit_intercept=True,\n",
       "                                                         n_jobs=None,\n",
       "                                                         normalize=False))],\n",
       "                                verbose=False),\n",
       "             iid='warn', n_jobs=None,\n",
       "             param_grid={'polynomialfeatures__degree': array([0, 1, 2, 3, 4])},\n",
       "             pre_dispatch='2*n_jobs', refit='MSE', return_train_score=False,\n",
       "             scoring={'MSE': 'neg_mean_squared_error', 'R_squared': 'r2'},\n",
       "             verbose=0)"
      ]
     },
     "execution_count": 134,
     "metadata": {},
     "output_type": "execute_result"
    }
   ],
   "source": [
    "from sklearn.preprocessing import PolynomialFeatures\n",
    "from sklearn.linear_model import LinearRegression\n",
    "from sklearn.model_selection import GridSearchCV\n",
    "from sklearn.pipeline import make_pipeline\n",
    "\n",
    "\n",
    "def PolynomialRegression(degree=2, **kwargs):\n",
    "    return make_pipeline(PolynomialFeatures(degree), LinearRegression(**kwargs))\n",
    "\n",
    "param_grid = {'polynomialfeatures__degree': np.arange(5)}\n",
    "grid = GridSearchCV(PolynomialRegression(), param_grid, scoring=scoring, refit='MSE', cv=7)\n",
    "grid.fit(x_train_mod, y_train)"
   ]
  },
  {
   "cell_type": "code",
   "execution_count": 135,
   "metadata": {},
   "outputs": [],
   "source": [
    "model = grid.best_estimator_"
   ]
  },
  {
   "cell_type": "code",
   "execution_count": 136,
   "metadata": {},
   "outputs": [],
   "source": [
    "poly_pkl = 'polynomial.pickle'\n",
    "pickle.dump(model, open(poly_pkl, 'wb'))"
   ]
  },
  {
   "cell_type": "code",
   "execution_count": 137,
   "metadata": {},
   "outputs": [
    {
     "name": "stdout",
     "output_type": "stream",
     "text": [
      "Best parameters: {'polynomialfeatures__degree': 1}\n",
      "Best cross-validation MSE: -0.17\n"
     ]
    }
   ],
   "source": [
    "print(\"Best parameters: {}\".format(grid.best_params_))\n",
    "print(\"Best cross-validation MSE: {:.2f}\".format(grid.best_score_))"
   ]
  },
  {
   "cell_type": "markdown",
   "metadata": {},
   "source": [
    "## SVM"
   ]
  },
  {
   "cell_type": "markdown",
   "metadata": {},
   "source": [
    "### LinearSVC"
   ]
  },
  {
   "cell_type": "code",
   "execution_count": 139,
   "metadata": {},
   "outputs": [],
   "source": [
    "from sklearn.svm import LinearSVR"
   ]
  },
  {
   "cell_type": "code",
   "execution_count": 160,
   "metadata": {},
   "outputs": [],
   "source": [
    "svr_params = []\n",
    "r1 = np.arange(0.1,1,0.1)\n",
    "r2 = np.arange(1,101,1)\n",
    "svr_params = np.concatenate((r1,r2))\n",
    "\n",
    "param_grid = {'C':svr_params}"
   ]
  },
  {
   "cell_type": "code",
   "execution_count": 161,
   "metadata": {},
   "outputs": [
    {
     "data": {
      "text/plain": [
       "GridSearchCV(cv='warn', error_score='raise-deprecating',\n",
       "             estimator=LinearSVR(C=1.0, dual=True, epsilon=0.0,\n",
       "                                 fit_intercept=True, intercept_scaling=1.0,\n",
       "                                 loss='epsilon_insensitive', max_iter=1000,\n",
       "                                 random_state=None, tol=0.0001, verbose=0),\n",
       "             iid='warn', n_jobs=None,\n",
       "             param_grid={'C': array([  0.1,   0.2,   0.3,   0.4,   0.5,   0.6,   0.7,   0.8,   0.9,\n",
       "         1. ,   2. ,   3. ,   4. ,   5. ,   6. ,   7. ,   8. ,   9. ,\n",
       "        10. ,  11. ,  12. ,  13. ,...\n",
       "        46. ,  47. ,  48. ,  49. ,  50. ,  51. ,  52. ,  53. ,  54. ,\n",
       "        55. ,  56. ,  57. ,  58. ,  59. ,  60. ,  61. ,  62. ,  63. ,\n",
       "        64. ,  65. ,  66. ,  67. ,  68. ,  69. ,  70. ,  71. ,  72. ,\n",
       "        73. ,  74. ,  75. ,  76. ,  77. ,  78. ,  79. ,  80. ,  81. ,\n",
       "        82. ,  83. ,  84. ,  85. ,  86. ,  87. ,  88. ,  89. ,  90. ,\n",
       "        91. ,  92. ,  93. ,  94. ,  95. ,  96. ,  97. ,  98. ,  99. ,\n",
       "       100. ])},\n",
       "             pre_dispatch='2*n_jobs', refit='MSE', return_train_score=False,\n",
       "             scoring={'MSE': 'neg_mean_squared_error', 'R_squared': 'r2'},\n",
       "             verbose=0)"
      ]
     },
     "execution_count": 161,
     "metadata": {},
     "output_type": "execute_result"
    }
   ],
   "source": [
    "linsvr = GridSearchCV(LinearSVR(),param_grid, scoring=scoring, refit='MSE')\n",
    "linsvr.fit(x_train_mod,y_train)"
   ]
  },
  {
   "cell_type": "code",
   "execution_count": 162,
   "metadata": {},
   "outputs": [],
   "source": [
    "linsvr_model = linsvr.best_estimator_"
   ]
  },
  {
   "cell_type": "code",
   "execution_count": 163,
   "metadata": {},
   "outputs": [
    {
     "name": "stdout",
     "output_type": "stream",
     "text": [
      "Best parameters: {'C': 0.6}\n",
      "Best cross-validation MSE: -0.17\n"
     ]
    }
   ],
   "source": [
    "print(\"Best parameters: {}\".format(linsvr.best_params_))\n",
    "print(\"Best cross-validation MSE: {:.2f}\".format(linsvr.best_score_))"
   ]
  },
  {
   "cell_type": "code",
   "execution_count": 164,
   "metadata": {},
   "outputs": [],
   "source": [
    "linsvr_pkl = 'linsvr_pkl.pickle'\n",
    "pickle.dump(linsvr_model, open(linsvr_pkl, 'wb'))"
   ]
  },
  {
   "cell_type": "markdown",
   "metadata": {},
   "source": [
    "### rbf"
   ]
  },
  {
   "cell_type": "code",
   "execution_count": 138,
   "metadata": {},
   "outputs": [],
   "source": [
    "from sklearn.svm import SVR"
   ]
  },
  {
   "cell_type": "code",
   "execution_count": 192,
   "metadata": {},
   "outputs": [
    {
     "data": {
      "text/plain": [
       "GridSearchCV(cv=10, error_score='raise-deprecating',\n",
       "             estimator=SVR(C=1.0, cache_size=200, coef0=0.0, degree=3,\n",
       "                           epsilon=0.1, gamma='auto_deprecated', kernel='rbf',\n",
       "                           max_iter=-1, shrinking=True, tol=0.001,\n",
       "                           verbose=False),\n",
       "             iid='warn', n_jobs=None,\n",
       "             param_grid={'C': [0.1, 1, 10, 100], 'gamma': [1, 0.1, 0.01, 0.001],\n",
       "                         'kernel': ['rbf']},\n",
       "             pre_dispatch='2*n_jobs', refit='MSE', return_train_score=False,\n",
       "             scoring={'MSE': 'neg_mean_squared_error', 'R_squared': 'r2'},\n",
       "             verbose=0)"
      ]
     },
     "execution_count": 192,
     "metadata": {},
     "output_type": "execute_result"
    }
   ],
   "source": [
    "param_grid = {'C': [0.1,1, 10, 100], 'gamma': [1,0.1,0.01,0.001],'kernel': ['rbf']}\n",
    "\n",
    "svc_rbf = GridSearchCV(SVR(),param_grid,scoring=scoring, refit='MSE', cv=10)\n",
    "svc_rbf.fit(x_train_mod,y_train)"
   ]
  },
  {
   "cell_type": "code",
   "execution_count": 193,
   "metadata": {},
   "outputs": [],
   "source": [
    "rbf_model = svc_rbf.best_estimator_"
   ]
  },
  {
   "cell_type": "code",
   "execution_count": null,
   "metadata": {},
   "outputs": [],
   "source": [
    "print(\"Best parameters: {}\".format(svc_rbf.best_params_))\n",
    "print(\"Best cross-validation MSE: {:.2f}\".format(svc_rbf.best_score_))"
   ]
  },
  {
   "cell_type": "code",
   "execution_count": 195,
   "metadata": {},
   "outputs": [],
   "source": [
    "rbf_pkl = 'svc_rbf.pickle'\n",
    "pickle.dump(rbf_model, open(rbf_pkl, 'wb'))"
   ]
  },
  {
   "cell_type": "markdown",
   "metadata": {},
   "source": [
    "### poly"
   ]
  },
  {
   "cell_type": "code",
   "execution_count": 196,
   "metadata": {},
   "outputs": [
    {
     "name": "stderr",
     "output_type": "stream",
     "text": [
      "/Users/manoj/opt/anaconda3/lib/python3.7/site-packages/sklearn/model_selection/_search.py:814: DeprecationWarning: The default of the `iid` parameter will change from True to False in version 0.22 and will be removed in 0.24. This will change numeric results when test-set sizes are unequal.\n",
      "  DeprecationWarning)\n"
     ]
    },
    {
     "data": {
      "text/plain": [
       "GridSearchCV(cv=10, error_score='raise-deprecating',\n",
       "             estimator=SVR(C=1.0, cache_size=200, coef0=0.0, degree=3,\n",
       "                           epsilon=0.1, gamma='auto_deprecated', kernel='rbf',\n",
       "                           max_iter=-1, shrinking=True, tol=0.001,\n",
       "                           verbose=False),\n",
       "             iid='warn', n_jobs=None,\n",
       "             param_grid={'C': [0.1, 1, 10, 100], 'gamma': [1, 0.1, 0.01, 0.001],\n",
       "                         'kernel': ['poly']},\n",
       "             pre_dispatch='2*n_jobs', refit='MSE', return_train_score=False,\n",
       "             scoring={'MSE': 'neg_mean_squared_error', 'R_squared': 'r2'},\n",
       "             verbose=0)"
      ]
     },
     "execution_count": 196,
     "metadata": {},
     "output_type": "execute_result"
    }
   ],
   "source": [
    "param_grid = {'C': [0.1,1, 10, 100], 'gamma': [1,0.1,0.01,0.001],'kernel': ['poly']}\n",
    "\n",
    "svc_poly = GridSearchCV(SVR(),param_grid,scoring=scoring, refit='MSE', cv=10)\n",
    "svc_poly.fit(x_train_mod,y_train)"
   ]
  },
  {
   "cell_type": "code",
   "execution_count": 197,
   "metadata": {},
   "outputs": [],
   "source": [
    "svcpoly_model = svc_poly.best_estimator_"
   ]
  },
  {
   "cell_type": "code",
   "execution_count": 198,
   "metadata": {},
   "outputs": [
    {
     "name": "stdout",
     "output_type": "stream",
     "text": [
      "Best parameters: {'C': 10, 'gamma': 0.1, 'kernel': 'poly'}\n",
      "Best cross-validation score: -0.16\n"
     ]
    }
   ],
   "source": [
    "print(\"Best parameters: {}\".format(svc_poly.best_params_))\n",
    "print(\"Best cross-validation MSE: {:.2f}\".format(svc_poly.best_score_))"
   ]
  },
  {
   "cell_type": "code",
   "execution_count": 199,
   "metadata": {},
   "outputs": [],
   "source": [
    "svc_poly = 'svc_poly.pickle'\n",
    "pickle.dump(svcpoly_model, open(svc_poly, 'wb'))"
   ]
  },
  {
   "cell_type": "markdown",
   "metadata": {},
   "source": [
    "### linear"
   ]
  },
  {
   "cell_type": "code",
   "execution_count": 200,
   "metadata": {},
   "outputs": [
    {
     "data": {
      "text/plain": [
       "GridSearchCV(cv=10, error_score='raise-deprecating',\n",
       "             estimator=SVR(C=1.0, cache_size=200, coef0=0.0, degree=3,\n",
       "                           epsilon=0.1, gamma='auto_deprecated', kernel='rbf',\n",
       "                           max_iter=-1, shrinking=True, tol=0.001,\n",
       "                           verbose=False),\n",
       "             iid='warn', n_jobs=None,\n",
       "             param_grid={'C': [0.1, 1, 10, 100], 'gamma': [1, 0.1, 0.01, 0.001],\n",
       "                         'kernel': ['linear']},\n",
       "             pre_dispatch='2*n_jobs', refit='MSE', return_train_score=False,\n",
       "             scoring={'MSE': 'neg_mean_squared_error', 'R_squared': 'r2'},\n",
       "             verbose=0)"
      ]
     },
     "execution_count": 200,
     "metadata": {},
     "output_type": "execute_result"
    }
   ],
   "source": [
    "param_grid = {'C': [0.1,1, 10, 100], 'gamma': [1,0.1,0.01,0.001],'kernel': ['linear']}\n",
    "\n",
    "svc_lin = GridSearchCV(SVR(),param_grid,scoring=scoring, refit='MSE', cv=10)\n",
    "svc_lin.fit(x_train_mod,y_train)"
   ]
  },
  {
   "cell_type": "code",
   "execution_count": 201,
   "metadata": {},
   "outputs": [],
   "source": [
    "svclin_model = svc_lin.best_estimator_"
   ]
  },
  {
   "cell_type": "code",
   "execution_count": 202,
   "metadata": {},
   "outputs": [
    {
     "name": "stdout",
     "output_type": "stream",
     "text": [
      "Best parameters: {'C': 100, 'gamma': 1, 'kernel': 'linear'}\n",
      "Best cross-validation MSE: -0.17\n"
     ]
    }
   ],
   "source": [
    "print(\"Best parameters: {}\".format(svc_lin.best_params_))\n",
    "print(\"Best cross-validation MSE: {:.2f}\".format(svc_lin.best_score_))"
   ]
  },
  {
   "cell_type": "code",
   "execution_count": 203,
   "metadata": {},
   "outputs": [],
   "source": [
    "svc_lin = 'svc_lin.pickle'\n",
    "pickle.dump(svclin_model, open(svc_lin, 'wb'))"
   ]
  },
  {
   "cell_type": "markdown",
   "metadata": {},
   "source": [
    "## DesicionTree Regressor"
   ]
  },
  {
   "cell_type": "code",
   "execution_count": 204,
   "metadata": {},
   "outputs": [],
   "source": [
    "from sklearn.tree import DecisionTreeRegressor\n",
    "\n",
    "dt = DecisionTreeRegressor()"
   ]
  },
  {
   "cell_type": "code",
   "execution_count": 205,
   "metadata": {},
   "outputs": [
    {
     "data": {
      "text/plain": [
       "GridSearchCV(cv=10, error_score='raise-deprecating',\n",
       "             estimator=DecisionTreeRegressor(criterion='mse', max_depth=None,\n",
       "                                             max_features=None,\n",
       "                                             max_leaf_nodes=None,\n",
       "                                             min_impurity_decrease=0.0,\n",
       "                                             min_impurity_split=None,\n",
       "                                             min_samples_leaf=1,\n",
       "                                             min_samples_split=2,\n",
       "                                             min_weight_fraction_leaf=0.0,\n",
       "                                             presort=False, random_state=None,\n",
       "                                             splitter='best'),\n",
       "             iid='warn', n_jobs=None,\n",
       "             param_gr...\n",
       "       141, 142, 143, 144, 145, 146, 147, 148, 149, 150, 151, 152, 153,\n",
       "       154, 155, 156, 157, 158, 159, 160, 161, 162, 163, 164, 165, 166,\n",
       "       167, 168, 169, 170, 171, 172, 173, 174, 175, 176, 177, 178, 179,\n",
       "       180, 181, 182, 183, 184, 185, 186, 187, 188, 189, 190, 191, 192,\n",
       "       193, 194, 195, 196, 197, 198, 199])},\n",
       "             pre_dispatch='2*n_jobs', refit='MSE', return_train_score=False,\n",
       "             scoring={'MSE': 'neg_mean_squared_error', 'R_squared': 'r2'},\n",
       "             verbose=0)"
      ]
     },
     "execution_count": 205,
     "metadata": {},
     "output_type": "execute_result"
    }
   ],
   "source": [
    "tree_params = dict(max_depth=np.arange(5,50), max_leaf_nodes=np.arange(50,200))\n",
    "\n",
    "tree_grid = GridSearchCV(dt, param_grid=tree_params, scoring=scoring, refit='MSE', cv=10)\n",
    "tree_grid.fit(x_train_mod, y_train)"
   ]
  },
  {
   "cell_type": "code",
   "execution_count": 206,
   "metadata": {},
   "outputs": [],
   "source": [
    "dtree_model = tree_grid.best_estimator_"
   ]
  },
  {
   "cell_type": "code",
   "execution_count": 207,
   "metadata": {},
   "outputs": [
    {
     "name": "stdout",
     "output_type": "stream",
     "text": [
      "Best parameters: {'max_depth': 5, 'max_leaf_nodes': 195}\n",
      "Best cross-validation MSE: -0.18\n"
     ]
    }
   ],
   "source": [
    "print(\"Best parameters: {}\".format(tree_grid.best_params_))\n",
    "print(\"Best cross-validation MSE: {:.2f}\".format(tree_grid.best_score_))"
   ]
  },
  {
   "cell_type": "code",
   "execution_count": 208,
   "metadata": {},
   "outputs": [],
   "source": [
    "dtree_pkl = 'dtree_pkl.pickle'\n",
    "pickle.dump(dtree_model, open(dtree_pkl, 'wb'))"
   ]
  },
  {
   "cell_type": "code",
   "execution_count": null,
   "metadata": {},
   "outputs": [],
   "source": []
  },
  {
   "cell_type": "markdown",
   "metadata": {},
   "source": [
    "## Final Model"
   ]
  },
  {
   "cell_type": "markdown",
   "metadata": {},
   "source": [
    "__From all the above models, we can see that the SVM model with `kernel=rbf` and `kernel=poly` has least neg_mean_squared_error i.e., has least error in prediction when compared to other models.__\n",
    "\n",
    "__Since the execution time of SVM with kernel=poly is more, it is better to use rbf kernel so that the performance of the model is good.__"
   ]
  },
  {
   "cell_type": "markdown",
   "metadata": {},
   "source": [
    "# SVM (kernel=rbf)"
   ]
  },
  {
   "cell_type": "markdown",
   "metadata": {},
   "source": [
    "__The best parameters of the model are:__"
   ]
  },
  {
   "cell_type": "code",
   "execution_count": 228,
   "metadata": {},
   "outputs": [
    {
     "name": "stdout",
     "output_type": "stream",
     "text": [
      "Best parameters: {'C': 10, 'gamma': 0.1, 'kernel': 'rbf'}\n"
     ]
    }
   ],
   "source": [
    "print(\"Best parameters: {}\".format(svc_rbf.best_params_))"
   ]
  },
  {
   "cell_type": "markdown",
   "metadata": {},
   "source": [
    "__Get the predictions for train dataset__"
   ]
  },
  {
   "cell_type": "code",
   "execution_count": 232,
   "metadata": {},
   "outputs": [],
   "source": [
    "train_predictions = rbf_model.predict(x_train_mod)"
   ]
  },
  {
   "cell_type": "markdown",
   "metadata": {},
   "source": [
    "__Get the predictions for test dataset__"
   ]
  },
  {
   "cell_type": "code",
   "execution_count": 233,
   "metadata": {},
   "outputs": [],
   "source": [
    "test_predictions = rbf_model.predict(x_test_mod)"
   ]
  },
  {
   "cell_type": "markdown",
   "metadata": {},
   "source": [
    "__Let us compare the predictions with actual values__"
   ]
  },
  {
   "cell_type": "code",
   "execution_count": 237,
   "metadata": {},
   "outputs": [
    {
     "name": "stdout",
     "output_type": "stream",
     "text": [
      "The mean squared error on train dataset: 0.12600299938936782\n",
      "The mean squared error on test dataset: 0.17114134438902392\n"
     ]
    }
   ],
   "source": [
    "print('The mean squared error on train dataset: {}'.format(mean_squared_error(y_train, train_predictions)))\n",
    "print('The mean squared error on test dataset: {}'.format(mean_squared_error(y_test, test_predictions)))"
   ]
  },
  {
   "cell_type": "code",
   "execution_count": 241,
   "metadata": {},
   "outputs": [],
   "source": [
    "x_test['predicted_log_price'] = test_predictions\n",
    "x_test['actual_log_price'] = y_test\n",
    "x_test['prediction_error'] = x_test['actual_log_price'] - x_test['predicted_log_price']"
   ]
  },
  {
   "cell_type": "code",
   "execution_count": 243,
   "metadata": {},
   "outputs": [],
   "source": [
    "predictions_df = x_test[['actual_log_price','predicted_log_price','prediction_error']]"
   ]
  },
  {
   "cell_type": "code",
   "execution_count": 245,
   "metadata": {},
   "outputs": [
    {
     "data": {
      "text/html": [
       "<div>\n",
       "<style scoped>\n",
       "    .dataframe tbody tr th:only-of-type {\n",
       "        vertical-align: middle;\n",
       "    }\n",
       "\n",
       "    .dataframe tbody tr th {\n",
       "        vertical-align: top;\n",
       "    }\n",
       "\n",
       "    .dataframe thead th {\n",
       "        text-align: right;\n",
       "    }\n",
       "</style>\n",
       "<table border=\"1\" class=\"dataframe\">\n",
       "  <thead>\n",
       "    <tr style=\"text-align: right;\">\n",
       "      <th></th>\n",
       "      <th>actual_log_price</th>\n",
       "      <th>predicted_log_price</th>\n",
       "      <th>prediction_error</th>\n",
       "    </tr>\n",
       "  </thead>\n",
       "  <tbody>\n",
       "    <tr>\n",
       "      <td>3269</td>\n",
       "      <td>4.828314</td>\n",
       "      <td>4.399497</td>\n",
       "      <td>0.428817</td>\n",
       "    </tr>\n",
       "    <tr>\n",
       "      <td>1579</td>\n",
       "      <td>4.828314</td>\n",
       "      <td>5.145219</td>\n",
       "      <td>-0.316906</td>\n",
       "    </tr>\n",
       "    <tr>\n",
       "      <td>2552</td>\n",
       "      <td>5.680173</td>\n",
       "      <td>5.733593</td>\n",
       "      <td>-0.053420</td>\n",
       "    </tr>\n",
       "    <tr>\n",
       "      <td>2953</td>\n",
       "      <td>4.828314</td>\n",
       "      <td>5.268606</td>\n",
       "      <td>-0.440292</td>\n",
       "    </tr>\n",
       "    <tr>\n",
       "      <td>2266</td>\n",
       "      <td>4.477337</td>\n",
       "      <td>4.171885</td>\n",
       "      <td>0.305452</td>\n",
       "    </tr>\n",
       "    <tr>\n",
       "      <td>3192</td>\n",
       "      <td>4.934474</td>\n",
       "      <td>5.085778</td>\n",
       "      <td>-0.151304</td>\n",
       "    </tr>\n",
       "    <tr>\n",
       "      <td>3108</td>\n",
       "      <td>4.317488</td>\n",
       "      <td>4.007599</td>\n",
       "      <td>0.309889</td>\n",
       "    </tr>\n",
       "    <tr>\n",
       "      <td>1817</td>\n",
       "      <td>3.688879</td>\n",
       "      <td>4.057736</td>\n",
       "      <td>-0.368857</td>\n",
       "    </tr>\n",
       "    <tr>\n",
       "      <td>2505</td>\n",
       "      <td>5.521461</td>\n",
       "      <td>5.058801</td>\n",
       "      <td>0.462660</td>\n",
       "    </tr>\n",
       "    <tr>\n",
       "      <td>3325</td>\n",
       "      <td>4.882802</td>\n",
       "      <td>5.007668</td>\n",
       "      <td>-0.124866</td>\n",
       "    </tr>\n",
       "    <tr>\n",
       "      <td>374</td>\n",
       "      <td>4.700480</td>\n",
       "      <td>4.951230</td>\n",
       "      <td>-0.250749</td>\n",
       "    </tr>\n",
       "    <tr>\n",
       "      <td>2164</td>\n",
       "      <td>5.703782</td>\n",
       "      <td>5.525826</td>\n",
       "      <td>0.177957</td>\n",
       "    </tr>\n",
       "    <tr>\n",
       "      <td>3026</td>\n",
       "      <td>4.969813</td>\n",
       "      <td>5.761780</td>\n",
       "      <td>-0.791966</td>\n",
       "    </tr>\n",
       "    <tr>\n",
       "      <td>2607</td>\n",
       "      <td>5.293305</td>\n",
       "      <td>5.341925</td>\n",
       "      <td>-0.048620</td>\n",
       "    </tr>\n",
       "    <tr>\n",
       "      <td>3180</td>\n",
       "      <td>6.551080</td>\n",
       "      <td>5.551864</td>\n",
       "      <td>0.999216</td>\n",
       "    </tr>\n",
       "    <tr>\n",
       "      <td>3451</td>\n",
       "      <td>5.631212</td>\n",
       "      <td>4.999039</td>\n",
       "      <td>0.632173</td>\n",
       "    </tr>\n",
       "    <tr>\n",
       "      <td>1151</td>\n",
       "      <td>4.454347</td>\n",
       "      <td>5.123948</td>\n",
       "      <td>-0.669601</td>\n",
       "    </tr>\n",
       "    <tr>\n",
       "      <td>3090</td>\n",
       "      <td>5.068904</td>\n",
       "      <td>4.944906</td>\n",
       "      <td>0.123998</td>\n",
       "    </tr>\n",
       "    <tr>\n",
       "      <td>1793</td>\n",
       "      <td>5.416100</td>\n",
       "      <td>5.324250</td>\n",
       "      <td>0.091850</td>\n",
       "    </tr>\n",
       "    <tr>\n",
       "      <td>2371</td>\n",
       "      <td>5.187386</td>\n",
       "      <td>5.427370</td>\n",
       "      <td>-0.239985</td>\n",
       "    </tr>\n",
       "    <tr>\n",
       "      <td>2167</td>\n",
       "      <td>5.164786</td>\n",
       "      <td>4.946803</td>\n",
       "      <td>0.217983</td>\n",
       "    </tr>\n",
       "    <tr>\n",
       "      <td>559</td>\n",
       "      <td>6.214608</td>\n",
       "      <td>6.006604</td>\n",
       "      <td>0.208004</td>\n",
       "    </tr>\n",
       "    <tr>\n",
       "      <td>393</td>\n",
       "      <td>5.010635</td>\n",
       "      <td>4.193745</td>\n",
       "      <td>0.816890</td>\n",
       "    </tr>\n",
       "    <tr>\n",
       "      <td>865</td>\n",
       "      <td>5.703782</td>\n",
       "      <td>5.247778</td>\n",
       "      <td>0.456005</td>\n",
       "    </tr>\n",
       "    <tr>\n",
       "      <td>282</td>\n",
       "      <td>6.665684</td>\n",
       "      <td>5.769022</td>\n",
       "      <td>0.896662</td>\n",
       "    </tr>\n",
       "    <tr>\n",
       "      <td>823</td>\n",
       "      <td>4.787492</td>\n",
       "      <td>4.259082</td>\n",
       "      <td>0.528410</td>\n",
       "    </tr>\n",
       "    <tr>\n",
       "      <td>560</td>\n",
       "      <td>5.187386</td>\n",
       "      <td>5.105153</td>\n",
       "      <td>0.082233</td>\n",
       "    </tr>\n",
       "    <tr>\n",
       "      <td>3164</td>\n",
       "      <td>4.787492</td>\n",
       "      <td>5.084160</td>\n",
       "      <td>-0.296668</td>\n",
       "    </tr>\n",
       "    <tr>\n",
       "      <td>2230</td>\n",
       "      <td>5.703782</td>\n",
       "      <td>5.479044</td>\n",
       "      <td>0.224738</td>\n",
       "    </tr>\n",
       "    <tr>\n",
       "      <td>935</td>\n",
       "      <td>5.926926</td>\n",
       "      <td>5.679428</td>\n",
       "      <td>0.247498</td>\n",
       "    </tr>\n",
       "  </tbody>\n",
       "</table>\n",
       "</div>"
      ],
      "text/plain": [
       "      actual_log_price  predicted_log_price  prediction_error\n",
       "3269          4.828314             4.399497          0.428817\n",
       "1579          4.828314             5.145219         -0.316906\n",
       "2552          5.680173             5.733593         -0.053420\n",
       "2953          4.828314             5.268606         -0.440292\n",
       "2266          4.477337             4.171885          0.305452\n",
       "3192          4.934474             5.085778         -0.151304\n",
       "3108          4.317488             4.007599          0.309889\n",
       "1817          3.688879             4.057736         -0.368857\n",
       "2505          5.521461             5.058801          0.462660\n",
       "3325          4.882802             5.007668         -0.124866\n",
       "374           4.700480             4.951230         -0.250749\n",
       "2164          5.703782             5.525826          0.177957\n",
       "3026          4.969813             5.761780         -0.791966\n",
       "2607          5.293305             5.341925         -0.048620\n",
       "3180          6.551080             5.551864          0.999216\n",
       "3451          5.631212             4.999039          0.632173\n",
       "1151          4.454347             5.123948         -0.669601\n",
       "3090          5.068904             4.944906          0.123998\n",
       "1793          5.416100             5.324250          0.091850\n",
       "2371          5.187386             5.427370         -0.239985\n",
       "2167          5.164786             4.946803          0.217983\n",
       "559           6.214608             6.006604          0.208004\n",
       "393           5.010635             4.193745          0.816890\n",
       "865           5.703782             5.247778          0.456005\n",
       "282           6.665684             5.769022          0.896662\n",
       "823           4.787492             4.259082          0.528410\n",
       "560           5.187386             5.105153          0.082233\n",
       "3164          4.787492             5.084160         -0.296668\n",
       "2230          5.703782             5.479044          0.224738\n",
       "935           5.926926             5.679428          0.247498"
      ]
     },
     "execution_count": 245,
     "metadata": {},
     "output_type": "execute_result"
    }
   ],
   "source": [
    "predictions_df.head(30)"
   ]
  }
 ],
 "metadata": {
  "kernelspec": {
   "display_name": "Python 3",
   "language": "python",
   "name": "python3"
  },
  "language_info": {
   "codemirror_mode": {
    "name": "ipython",
    "version": 3
   },
   "file_extension": ".py",
   "mimetype": "text/x-python",
   "name": "python",
   "nbconvert_exporter": "python",
   "pygments_lexer": "ipython3",
   "version": "3.7.4"
  }
 },
 "nbformat": 4,
 "nbformat_minor": 4
}
